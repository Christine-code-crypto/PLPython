{
 "cells": [
  {
   "cell_type": "code",
   "execution_count": null,
   "id": "ea0b5c15",
   "metadata": {
    "vscode": {
     "languageId": "plaintext"
    }
   },
   "outputs": [],
   "source": [
    "# Cell 1: Imports and dataset loading\n",
    "import pandas as pd\n",
    "import matplotlib.pyplot as plt\n",
    "import seaborn as sns\n",
    "from sklearn.datasets import load_iris\n",
    "\n",
    "# Load Iris dataset\n",
    "iris = load_iris(as_frame=True)\n",
    "df = iris.frame\n",
    "\n",
    "print(\"Dataset loaded successfully!\")\n"
   ]
  },
  {
   "cell_type": "code",
   "execution_count": null,
   "id": "b0f57b57",
   "metadata": {
    "vscode": {
     "languageId": "plaintext"
    }
   },
   "outputs": [],
   "source": [
    "# Cell 2: Explore dataset\n",
    "print(\"First 5 rows:\")\n",
    "display(df.head())\n",
    "\n",
    "print(\"\\nDataset info:\")\n",
    "print(df.info())\n",
    "\n",
    "print(\"\\nMissing values per column:\")\n",
    "print(df.isnull().sum())\n"
   ]
  },
  {
   "cell_type": "code",
   "execution_count": null,
   "id": "53f82532",
   "metadata": {
    "vscode": {
     "languageId": "plaintext"
    }
   },
   "outputs": [],
   "source": [
    "# Cell 3: Basic statistics\n",
    "print(\"Basic statistics:\")\n",
    "display(df.describe())\n"
   ]
  },
  {
   "cell_type": "code",
   "execution_count": null,
   "id": "8651c976",
   "metadata": {
    "vscode": {
     "languageId": "plaintext"
    }
   },
   "outputs": [],
   "source": [
    "# Cell 4: Group by target/species and compute mean\n",
    "grouped = df.groupby('target').mean()\n",
    "print(\"Mean values grouped by species (target):\")\n",
    "display(grouped)\n",
    "\n",
    "# Add species names column\n",
    "df['species'] = df['target'].map({i:name for i, name in enumerate(iris.target_names)})\n"
   ]
  },
  {
   "cell_type": "code",
   "execution_count": null,
   "id": "84c2231f",
   "metadata": {
    "vscode": {
     "languageId": "plaintext"
    }
   },
   "outputs": [],
   "source": [
    "# Cell 5: Line chart - Average petal length by species\n",
    "grouped_petal_length = df.groupby('species')['petal length (cm)'].mean()\n",
    "\n",
    "plt.figure(figsize=(8,5))\n",
    "plt.plot(grouped_petal_length.index, grouped_petal_length.values, marker='o')\n",
    "plt.title('Average Petal Length by Species')\n",
    "plt.xlabel('Species')\n",
    "plt.ylabel('Average Petal Length (cm)')\n",
    "plt.grid(True)\n",
    "plt.show()\n"
   ]
  },
  {
   "cell_type": "code",
   "execution_count": null,
   "id": "7e025c5b",
   "metadata": {
    "vscode": {
     "languageId": "plaintext"
    }
   },
   "outputs": [],
   "source": [
    "# Cell 6: Bar chart - Average sepal width by species\n",
    "grouped_sepal_width = df.groupby('species')['sepal width (cm)'].mean()\n",
    "\n",
    "plt.figure(figsize=(8,5))\n",
    "grouped_sepal_width.plot(kind='bar', color='skyblue')\n",
    "plt.title('Average Sepal Width by Species')\n",
    "plt.xlabel('Species')\n",
    "plt.ylabel('Average Sepal Width (cm)')\n",
    "plt.xticks(rotation=45)\n",
    "plt.show()\n"
   ]
  },
  {
   "cell_type": "code",
   "execution_count": null,
   "id": "390b39f8",
   "metadata": {
    "vscode": {
     "languageId": "plaintext"
    }
   },
   "outputs": [],
   "source": [
    "# Cell 7: Histogram - Distribution of petal length\n",
    "plt.figure(figsize=(8,5))\n",
    "plt.hist(df['petal length (cm)'], bins=15, color='purple', edgecolor='black')\n",
    "plt.title('Distribution of Petal Length')\n",
    "plt.xlabel('Petal Length (cm)')\n",
    "plt.ylabel('Frequency')\n",
    "plt.grid(True)\n",
    "plt.show()\n"
   ]
  },
  {
   "cell_type": "code",
   "execution_count": null,
   "id": "544bc760",
   "metadata": {
    "vscode": {
     "languageId": "plaintext"
    }
   },
   "outputs": [],
   "source": [
    "# Cell 8: Scatter plot - Sepal length vs Petal length colored by species\n",
    "plt.figure(figsize=(8,5))\n",
    "sns.scatterplot(data=df, x='sepal length (cm)', y='petal length (cm)', hue='species', palette='deep')\n",
    "plt.title('Sepal Length vs Petal Length by Species')\n",
    "plt.xlabel('Sepal Length (cm)')\n",
    "plt.ylabel('Petal Length (cm)')\n",
    "plt.legend(title='Species')\n",
    "plt.grid(True)\n",
    "plt.show()\n"
   ]
  },
  {
   "cell_type": "code",
   "execution_count": null,
   "id": "8311f497",
   "metadata": {
    "vscode": {
     "languageId": "plaintext"
    }
   },
   "outputs": [],
   "source": [
    "# Cell 9: Findings and observations (Markdown cell recommended but Python print works)\n",
    "print(\"\"\"\n",
    "Findings and Observations:\n",
    "- Setosa species have significantly shorter petal lengths compared to Versicolor and Virginica.\n",
    "- Sepal width is slightly larger in Setosa compared to others.\n",
    "- There is a strong positive relationship between sepal length and petal length.\n",
    "- Virginica species tend to have the largest measurements across most features.\n",
    "\"\"\")\n"
   ]
  }
 ],
 "metadata": {
  "language_info": {
   "name": "python"
  }
 },
 "nbformat": 4,
 "nbformat_minor": 5
}
